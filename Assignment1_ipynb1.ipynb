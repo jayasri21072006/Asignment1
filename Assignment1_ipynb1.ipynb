{
  "cells": [
    {
      "cell_type": "markdown",
      "metadata": {
        "id": "3JAN3UrytjAg"
      },
      "source": [
        "# *Python Basics Questions*"
      ]
    },
    {
      "cell_type": "markdown",
      "metadata": {
        "id": "gDpuKOehq-uc"
      },
      "source": [
        "\n",
        "1. What is Python, and why is it popular?\n",
        "\n",
        "- Python is an object-oriented, high-level programming language that is case-sensitive.\n",
        "- It runs in an Integrated Development Environment (IDE).\n",
        " - It is popular for its:\n",
        "   - Large number of libraries.\n",
        "   - Simplicity in coding.\n",
        "   "
      ]
    },
    {
      "cell_type": "markdown",
      "metadata": {
        "id": "BUYwFvIEst6H"
      },
      "source": [
        "2.What is an interpreter in Python?\n",
        "- An interpreter in Python is a program that executes Python code line by line.\n",
        "- For each line, it translates high-level code into machine-readable code (the entire code is not translated at once).\n",
        "- It helps in debugging and testing Python programs."
      ]
    },
    {
      "cell_type": "markdown",
      "metadata": {
        "id": "TlIJM-JTt09t"
      },
      "source": [
        "3.What are pre-defined keywords in Python?\n",
        "- Pre-defined keywords are reserved words in Python that cannot be used as identifiers.\n",
        "- They are designed to perform specific tasks and are part of Python's syntax.\n",
        "- For example, if, for, while, and def are keywords.\n",
        "Keywords cannot be redefined or used for other purposes."
      ]
    },
    {
      "cell_type": "markdown",
      "metadata": {
        "id": "BJ1So2m_4YWX"
      },
      "source": [
        " 4.Can keywords be used as variable names?\n",
        " No, keywords cannot be used as variable names in Python or most other programming languages. Keywords are reserved words that have specific meanings and purposes in the language syntax, such as if, else, while, def, return, etc. Using them as variable names would cause a syntax error.\n"
      ]
    },
    {
      "cell_type": "markdown",
      "metadata": {
        "id": "1fa8tbjj5vA-"
      },
      "source": [
        "5.What is mutability in Python?\n",
        "  - Mutability in Python refers to the ability of an object to be changed (modified) after it is created. Depending on their data type, objects in Python can be either mutable or immutable.\n",
        "\n",
        "*Mutable Objects*:\n",
        " - These are objects that can be modified after their creation. Examples include:\n",
        "\n",
        "  - Lists\n",
        "  - Dictionaries\n",
        "  - Sets"
      ]
    },
    {
      "cell_type": "markdown",
      "metadata": {
        "id": "LzQZ7ryq7kD0"
      },
      "source": [
        "6. Why are lists mutable, but tuples are immutable?\n",
        "- Lists are mutable because they are designed for dynamic operations like adding, removing, or modifying elements. This allows operations such as append, remove, extend, pop, insert, and clear, as they support in-place changes.\n",
        "\n",
        "- Tuples are immutable because they are meant for fixed data that should not change, ensuring consistency and making them hashable for use as dictionary keys or set elements. As a result, they do not support operations like append, remove, extend, pop, or insert.\n"
      ]
    },
    {
      "cell_type": "markdown",
      "metadata": {
        "id": "9gaifkvx_BOT"
      },
      "source": [
        "7.What is the difference between “==” and “is” operators in Python?\n",
        " - **== (Equality Operator):**\n",
        "\n",
        "  - This checks if the values of the objects on both sides are equal.\n",
        "  - It compares the actual data/content of the objects, not their identity in memory.\n",
        "\n",
        " - **is (Identity Operator):**\n",
        "\n",
        "  - This checks if both sides refer to the exact same object in memory (i.e., whether they are the same object, not just equal).\n",
        "  - It's about the identity of the objects, not their content.\n"
      ]
    },
    {
      "cell_type": "markdown",
      "metadata": {
        "id": "ptkTcb60_PR5"
      },
      "source": [
        "8.What are logical operators in Python?\n",
        "\n",
        "In Python, logical operators are used to combine conditional statements and return a boolean value (True or False).The operators are as follows:\n",
        " - and (Logical AND):\n",
        "     True if both conditions are True.\n",
        " - or (Logical OR):\n",
        "     True if at least one condition is True.\n",
        " - not(Logical NOT):\n",
        "     Reverses the truth value of the condition (True becomes False, and False becomes True)"
      ]
    },
    {
      "cell_type": "markdown",
      "metadata": {
        "id": "81j8prb-NrAO"
      },
      "source": [
        "9.What is type casting in Python?\n",
        " - Type casting in Python refers to converting a variable from one data type to another. It allows to  control how data is interpreted and used in our program. For example, converting an integer to a string or vice versa.\n",
        " - This is important for ensuring compatibility when performing operations on different data types."
      ]
    },
    {
      "cell_type": "markdown",
      "metadata": {
        "id": "kGtZozcHR6ck"
      },
      "source": []
    },
    {
      "cell_type": "markdown",
      "metadata": {
        "id": "8lbxiCKiSC_i"
      },
      "source": [
        "10. What is the difference between implicit and explicit type casting?\n",
        "\n",
        " - **Implicit Type Casting**:\n",
        "\n",
        "    - Performed automatically by Python.\n",
        "   - Converts smaller data types to larger ones (e.g., int to float) in order to avoid data loss\n",
        " - **Explicit Type Casting**:\n",
        "\n",
        "    - Done manually by the programmer using type conversion functions like int(), float(), or str().\n",
        "    - Allows conversion between incompatible types"
      ]
    },
    {
      "cell_type": "markdown",
      "metadata": {
        "id": "0C3yI27GTS2O"
      },
      "source": [
        "11.What is the purpose of conditional statements in Python?\n",
        " - Conditional statements in Python are used to control the flow of a program  by executing specific blocks of code based on certain conditions.\n",
        "\n",
        "**Blocks in Conditional Statements:**\n",
        "\n",
        "  - if Block: Executes when the condition is True.\n",
        "  - elif Block (optional): Checks additional conditions if the previous if condition is False.\n",
        "  - else Block (optional): Executes when all previous conditions are False"
      ]
    },
    {
      "cell_type": "markdown",
      "metadata": {
        "id": "CbkICL45T7Uf"
      },
      "source": [
        "12. How does the elif statement work?\n",
        "\n",
        " - The elif statement in Python is short for \"else if,\" and it allows you to check multiple conditions in a sequence, after an initial if statement.\n",
        " - it works as follows:\n",
        "\n",
        " - The if statement checks the first condition.\n",
        " - If the if condition is False, the program moves on to the elif statement (if one exists) and checks its condition.\n",
        " - If the elif condition is True, the code block under the elif is executed.\n",
        " - If none of the if or elif conditions are True, the else block (if it exists) is executed."
      ]
    },
    {
      "cell_type": "markdown",
      "metadata": {
        "id": "by9-gcVKYHl4"
      },
      "source": [
        "13.What is the difference between for and while loops?\n",
        " - for Loop:\n",
        "      - Used for iterating over a sequence (like a list, tuple, string, or range).\n",
        "      - It is typically used when we  know how many times you want to loop, or when you are working with a collection of items.\n",
        " - While loop:\n",
        "      - Used for repeating code as long as a condition is true.\n",
        "      - It is ideal when we  don't know the number of iterations beforehand, and the loop should continue until a certain condition changes (e.g., user input, a certain calculation, etc.)."
      ]
    },
    {
      "cell_type": "markdown",
      "metadata": {
        "id": "Vn2d9aVHZmaf"
      },
      "source": [
        "14.Describe a scenario where a while loop is more suitable than a for loop?\n",
        "\n",
        "A while loop is more suitable when we don't know the exact number of iterations in advance and need the loop to continue until a specific condition is met. For example, when asking a user for input and continuing until they provide a valid response. The loop will keep running as long as the condition (correct password) remains false. This makes it ideal for scenarios where the number of attempts or iterations is uncertain. A for loop, on the other hand, is best when the number of iterations is known ahead of time."
      ]
    },
    {
      "cell_type": "markdown",
      "metadata": {
        "id": "8XViLk22aQ12"
      },
      "source": [
        "# ** Practical Questions**"
      ]
    },
    {
      "cell_type": "code",
      "execution_count": null,
      "metadata": {
        "colab": {
          "base_uri": "https://localhost:8080/"
        },
        "id": "oHDuhHTcYD3h",
        "outputId": "8fc97373-7465-44b0-c84f-b8c43b545203"
      },
      "outputs": [
        {
          "name": "stdout",
          "output_type": "stream",
          "text": [
            "Hello, World!\n"
          ]
        }
      ],
      "source": [
        "#1.Write a Python program to print \"Hello, World!\"\n",
        "print(\"Hello, World!\")"
      ]
    },
    {
      "cell_type": "code",
      "execution_count": null,
      "metadata": {
        "colab": {
          "base_uri": "https://localhost:8080/"
        },
        "id": "4hwtXezT--0-",
        "outputId": "71ab32c1-ae0c-4721-af9a-3fd326b694e0"
      },
      "outputs": [
        {
          "name": "stdout",
          "output_type": "stream",
          "text": [
            "My  name is jayasri T\n",
            "My age is 18\n",
            "enter your name:jayasri T\n",
            "enter your age:18\n",
            "My  name is jayasri T\n",
            "My age is 18\n"
          ]
        }
      ],
      "source": [
        "#2.Write a Python program that displays your name and age\n",
        "#Method 1\n",
        "print(\"My  name is jayasri T\")\n",
        "\n",
        "print(\"My age is 18\")\n",
        "\"\"\"\n",
        "Method 2\n",
        "by asking input from user\n",
        "\"\"\"\n",
        "name=input(\"enter your name:\")\n",
        "age=int(input(\"enter your age:\"))\n",
        "print(\"My  name is\", name)\n",
        "\n",
        "print(\"My age is\",age)\n"
      ]
    },
    {
      "cell_type": "markdown",
      "metadata": {
        "id": "JDC4NbsrTQqP"
      },
      "source": []
    },
    {
      "cell_type": "code",
      "execution_count": null,
      "metadata": {
        "colab": {
          "base_uri": "https://localhost:8080/"
        },
        "id": "rTubHg70d2VI",
        "outputId": "6cdca3af-8d1d-47e7-eda1-01608826a7a9"
      },
      "outputs": [
        {
          "name": "stdout",
          "output_type": "stream",
          "text": [
            "Python predefined keywords:\n",
            "False\n",
            "None\n",
            "True\n",
            "and\n",
            "as\n",
            "assert\n",
            "async\n",
            "await\n",
            "break\n",
            "class\n",
            "continue\n",
            "def\n",
            "del\n",
            "elif\n",
            "else\n",
            "except\n",
            "finally\n",
            "for\n",
            "from\n",
            "global\n",
            "if\n",
            "import\n",
            "in\n",
            "is\n",
            "lambda\n",
            "nonlocal\n",
            "not\n",
            "or\n",
            "pass\n",
            "raise\n",
            "return\n",
            "try\n",
            "while\n",
            "with\n",
            "yield\n"
          ]
        }
      ],
      "source": [
        "#3. Write code to print all the pre-defined keywords in Python using the keyword library\n",
        "import keyword\n",
        "\n",
        "\n",
        "\n",
        "\n",
        "print(\"Python predefined keywords:\")\n",
        "for kw in keyword.kwlist:\n",
        "    print(kw)\n"
      ]
    },
    {
      "cell_type": "code",
      "execution_count": null,
      "metadata": {
        "colab": {
          "base_uri": "https://localhost:8080/"
        },
        "id": "jdrdFw8Ul5C9",
        "outputId": "d1718085-b56f-4c7f-98a0-73849b67e519"
      },
      "outputs": [
        {
          "name": "stdout",
          "output_type": "stream",
          "text": [
            "enter a word print\n",
            "given word is not a keyword\n"
          ]
        }
      ],
      "source": [
        "#4. Write a program that checks if a given word is a Python keyword.\n",
        "\n",
        "import keyword\n",
        "\n",
        "\n",
        "\n",
        "\n",
        "word=input(\"enter a word \")\n",
        "if word in keyword.kwlist:\n",
        "\n",
        "    print(\"given word is keyword\")\n",
        "else:\n",
        "  print(\"given word is not a keyword\")"
      ]
    },
    {
      "cell_type": "code",
      "execution_count": null,
      "metadata": {
        "colab": {
          "base_uri": "https://localhost:8080/"
        },
        "id": "E-_XArGqmf81",
        "outputId": "92321816-a479-4ac8-f179-68f6502791e3"
      },
      "outputs": [
        {
          "name": "stdout",
          "output_type": "stream",
          "text": [
            "List after modification: [1, 2, 10, 4, 5]\n",
            "Error while modifying the tuple: 'tuple' object does not support item assignment\n"
          ]
        }
      ],
      "source": [
        "#5.Create a list and tuple in Python, and demonstrate how attempting to change an element works differently for each.\n",
        "\n",
        "m_list = [1, 2, 3, 4, 5]\n",
        "m_tuple = (1, 2, 3, 4, 5)\n",
        "\n",
        "\n",
        "try:\n",
        "    m_list[2] = 10\n",
        "    print(\"List after modification:\", m_list)\n",
        "except TypeError as e:\n",
        "    print(\"Error while modifying the list:\", e)\n",
        "\n",
        "\n",
        "try:\n",
        "    m_tuple[2] = 10\n",
        "    print(\"Tuple after modification:\", m_tuple)\n",
        "except TypeError as e:\n",
        "    print(\"Error while modifying the tuple:\", e)\n"
      ]
    },
    {
      "cell_type": "code",
      "execution_count": null,
      "metadata": {
        "colab": {
          "base_uri": "https://localhost:8080/"
        },
        "id": "EHLIcivwsn-g",
        "outputId": "80805788-da61-4663-9a49-fbf283fe74c9"
      },
      "outputs": [
        {
          "name": "stdout",
          "output_type": "stream",
          "text": [
            "Before modification:\n",
            "Mutable argument: [1, 2, 3]\n",
            "Immutable argument: hello\n",
            "\n",
            "After modification:\n",
            "Mutable argument: [1, 2, 3, 100]\n",
            "Immutable argument: hello,world !\n"
          ]
        }
      ],
      "source": [
        "#6.Write a function to demonstrate the behavior of mutable and immutable arguments.\n",
        "def demo_mutable_immutable(mutable_arg, immutable_arg):\n",
        "    print(\"Before modification:\")\n",
        "    print(f\"Mutable argument: {mutable_arg}\")\n",
        "    print(f\"Immutable argument: {immutable_arg}\")\n",
        "    # Modifying the mutable argument (list)\n",
        "    mutable_arg.append(100)\n",
        "\n",
        "\n",
        "    # Modifying the immutable argument (integer)\n",
        "    immutable_arg += \",world !\"\n",
        "\n",
        "    print(\"\\nAfter modification:\")\n",
        "    print(f\"Mutable argument: {mutable_arg}\")\n",
        "    print(f\"Immutable argument: {immutable_arg}\")\n",
        "\n",
        "# Example usage\n",
        "my_list = [1, 2, 3]\n",
        "my_string = \"hello\"\n",
        "\n",
        "demo_mutable_immutable(my_list, my_string)\n"
      ]
    },
    {
      "cell_type": "code",
      "execution_count": null,
      "metadata": {
        "colab": {
          "base_uri": "https://localhost:8080/"
        },
        "id": "M_wSHmFEtrG3",
        "outputId": "5bc3ac8a-b6dd-4998-de33-ee43fa50a0de"
      },
      "outputs": [
        {
          "name": "stdout",
          "output_type": "stream",
          "text": [
            "Enter the first number: 2\n",
            "Enter the second number: 4\n",
            "Addition: 2.0 + 4.0 = 6.0\n",
            "Subtraction: 2.0 - 4.0 = -2.0\n",
            "Multiplication: 2.0 * 4.0 = 8.0\n",
            "Division: 2.0 / 4.0 = 0.5\n"
          ]
        }
      ],
      "source": [
        "#7.Write a program that performs basic arithmetic operations on two user-input numbers.\n",
        "def arithmetic_operations():\n",
        "    num1 = float(input(\"Enter the first number: \"))\n",
        "    num2 = float(input(\"Enter the second number: \"))\n",
        "    addition = num1 + num2\n",
        "    subtraction = num1 - num2\n",
        "    multiplication = num1 * num2\n",
        "    if num2 != 0:\n",
        "        division = num1 / num2\n",
        "    else:\n",
        "        division = \"undefined (division by zero)\"\n",
        "    print(f\"Addition: {num1} + {num2} = {addition}\")\n",
        "    print(f\"Subtraction: {num1} - {num2} = {subtraction}\")\n",
        "    print(f\"Multiplication: {num1} * {num2} = {multiplication}\")\n",
        "    print(f\"Division: {num1} / {num2} = {division}\")\n",
        "arithmetic_operations()\n"
      ]
    },
    {
      "cell_type": "code",
      "execution_count": null,
      "metadata": {
        "colab": {
          "base_uri": "https://localhost:8080/"
        },
        "id": "IqRDMtoRunMU",
        "outputId": "99346eac-6072-4be5-9bac-bc2ff953f889"
      },
      "outputs": [
        {
          "name": "stdout",
          "output_type": "stream",
          "text": [
            "a = True , b = False\n",
            "a and b = False\n",
            "a or b = True\n",
            "not a = False\n",
            "not b = True\n"
          ]
        }
      ],
      "source": [
        "#8.Write a program to demonstrate the use of logical operators.\n",
        "def logical_operators_demo():\n",
        "    a = True\n",
        "    b = False\n",
        "\n",
        "    print(\"a =\", a, \", b =\", b)\n",
        "    print(\"a and b =\", a and b)\n",
        "    print(\"a or b =\", a or b)\n",
        "    print(\"not a =\", not a)\n",
        "    print(\"not b =\", not b)\n",
        "\n",
        "logical_operators_demo()\n",
        "\n"
      ]
    },
    {
      "cell_type": "code",
      "execution_count": null,
      "metadata": {
        "colab": {
          "background_save": true
        },
        "id": "LmCa6W8YvUnO",
        "outputId": "8d7df1ae-e845-44c3-aa31-32c40567390e"
      },
      "outputs": [
        {
          "name": "stdout",
          "output_type": "stream",
          "text": [
            "Integer: 78\n",
            "Float: 78.0\n",
            "Boolean: True\n"
          ]
        }
      ],
      "source": [
        "# 9. Write a Python program to convert user input from string to integer, float, and boolean types.\n",
        "def convert_input():\n",
        "    user_input = input(\"Enter a value: \")\n",
        "\n",
        "    # Integer Conversion\n",
        "    if user_input.lstrip('-').isdigit():\n",
        "        int_value = int(user_input)\n",
        "        print(\"Integer:\", int_value)\n",
        "    else:\n",
        "        print(\"Could not convert to integer.\")\n",
        "\n",
        "    # Float Conversion\n",
        "    if (user_input.lstrip('-').replace('.', '', 1).isdigit() and user_input.count('.') <= 1):\n",
        "        float_value = float(user_input)\n",
        "        print(\"Float:\", float_value)\n",
        "    else:\n",
        "        print(\"Could not convert to float.\")\n",
        "\n",
        "    # Boolean Conversion\n",
        "    if user_input.lower() == 'true' or user_input == '1':\n",
        "        bool_value = True\n",
        "    elif user_input.lower() == 'false' or user_input == '0':\n",
        "        bool_value = False\n",
        "    else:\n",
        "        bool_value = bool(user_input)\n",
        "\n",
        "    print(\"Boolean:\", bool_value)\n",
        "\n",
        "convert_input()\n",
        "\n"
      ]
    },
    {
      "cell_type": "code",
      "execution_count": null,
      "metadata": {
        "colab": {
          "background_save": true
        },
        "id": "y7rIIUcwxUSx",
        "outputId": "dda52e4f-9881-4164-9bd8-10a63cc12dcd"
      },
      "outputs": [
        {
          "name": "stdout",
          "output_type": "stream",
          "text": [
            "Original List: ['123', '45.6', 'True', 78]\n",
            "List after Type Casting to int, float, and bool: [123, 45.6, True, 78]\n"
          ]
        }
      ],
      "source": [
        "#10. Write code to demonstrate type casting with list elements.\n",
        "\n",
        "my_list = ['123', '45.6', 'True', 78]\n",
        "\n",
        "\n",
        "int_list = [int(item) if isinstance(item, str) and item.isdigit() else item for item in my_list]\n",
        "float_list = [float(item) if isinstance(item, str) and item.replace('.', '', 1).isdigit() else item for item in int_list]\n",
        "bool_list = [bool(item) if isinstance(item, str) and item.lower() == 'true' else item for item in float_list]\n",
        "\n",
        "print(\"Original List:\", my_list)\n",
        "print(\"List after Type Casting to int, float, and bool:\", bool_list)\n",
        "\n",
        "\n"
      ]
    },
    {
      "cell_type": "markdown",
      "metadata": {
        "id": "reAfvXX9tCrC"
      },
      "source": []
    },
    {
      "cell_type": "code",
      "execution_count": 3,
      "metadata": {
        "id": "jUoRsi68NGw4",
        "colab": {
          "base_uri": "https://localhost:8080/"
        },
        "outputId": "abbb1b74-4b11-4962-a864-6ac1787fec6a"
      },
      "outputs": [
        {
          "output_type": "stream",
          "name": "stdout",
          "text": [
            "6\n",
            "number is positive\n"
          ]
        }
      ],
      "source": [
        "#11. Write a program that checks if a number is positive, negative, or zero\n",
        "n=int(input())\n",
        "if n==0:\n",
        "  print(\"number is 0\")\n",
        "elif n<0:\n",
        "  print(\"number is negative\")\n",
        "else:\n",
        "  print(\"number is positive\")"
      ]
    },
    {
      "cell_type": "code",
      "execution_count": 2,
      "metadata": {
        "id": "dpQJIWG-OOmX",
        "colab": {
          "base_uri": "https://localhost:8080/"
        },
        "outputId": "c35af4ee-f21c-4f26-e1a7-dc76196dec46"
      },
      "outputs": [
        {
          "output_type": "stream",
          "name": "stdout",
          "text": [
            "1\n",
            "2\n",
            "3\n",
            "4\n",
            "5\n",
            "6\n",
            "7\n",
            "8\n",
            "9\n",
            "10\n"
          ]
        }
      ],
      "source": [
        "#12. Write a for loop to print numbers from 1 to 10.\n",
        "for i in range(1,11):\n",
        "  print(i)"
      ]
    },
    {
      "cell_type": "code",
      "execution_count": null,
      "metadata": {
        "colab": {
          "base_uri": "https://localhost:8080/"
        },
        "id": "xgR1kgtKOlsS",
        "outputId": "271fc382-504c-48fd-efb6-520bc76cf681"
      },
      "outputs": [
        {
          "output_type": "stream",
          "name": "stdout",
          "text": [
            "650\n"
          ]
        }
      ],
      "source": [
        "#13. Write a Python program to find the sum of all even numbers between 1 and 50.\n",
        "sum=0\n",
        "for i in range(1,50+1):\n",
        "  if i%2==0:\n",
        "    sum=sum+i\n",
        "print(sum)\n"
      ]
    },
    {
      "cell_type": "code",
      "execution_count": 1,
      "metadata": {
        "colab": {
          "base_uri": "https://localhost:8080/"
        },
        "id": "n1StMakjO4og",
        "outputId": "fe7490a8-6179-4eb2-d312-519bd85e4341"
      },
      "outputs": [
        {
          "output_type": "stream",
          "name": "stdout",
          "text": [
            "olleh\n"
          ]
        }
      ],
      "source": [
        "#14.Write a program to reverse a string using a while loop.\n",
        "\n",
        "\n",
        "\n",
        "input_string= \"hello\"\n",
        "\n",
        "reversed_string = \"\"\n",
        "index = len(input_string) - 1  # Start from the last character\n",
        "\n",
        "while index >= 0:\n",
        "  reversed_string += input_string[index]\n",
        "  index -= 1\n",
        "print( reversed_string)\n",
        "\n",
        "\n",
        "\n"
      ]
    },
    {
      "cell_type": "code",
      "execution_count": 4,
      "metadata": {
        "colab": {
          "base_uri": "https://localhost:8080/"
        },
        "id": "gjLs0QvOQBks",
        "outputId": "b6223c43-6c4f-471f-d42d-9aa0718ffed6"
      },
      "outputs": [
        {
          "output_type": "stream",
          "name": "stdout",
          "text": [
            "5\n",
            "120\n"
          ]
        }
      ],
      "source": [
        "#15.Write a Python program to calculate the factorial of a number provided by the user using a while loop\n",
        "n=int(input())\n",
        "result = 1\n",
        "while n > 0:\n",
        "      result *= n\n",
        "      n -= 1\n",
        "print(result)"
      ]
    },
    {
      "cell_type": "markdown",
      "metadata": {
        "id": "BunBj-1r4KN-"
      },
      "source": []
    }
  ],
  "metadata": {
    "colab": {
      "provenance": []
    },
    "kernelspec": {
      "display_name": "Python 3",
      "name": "python3"
    },
    "language_info": {
      "name": "python"
    }
  },
  "nbformat": 4,
  "nbformat_minor": 0
}